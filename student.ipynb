{
 "cells": [
  {
   "cell_type": "markdown",
   "metadata": {},
   "source": [
    "# Heart Disease Classification"
   ]
  },
  {
   "cell_type": "markdown",
   "metadata": {},
   "source": [
    "## Business Goal"
   ]
  },
  {
   "cell_type": "markdown",
   "metadata": {},
   "source": [
    "We'll be working with the largest hospital in Massachusetts (The Massachusetts General Hospital). Using various classification algorithms, we'll determine which algorithm provides the most accurate predictions for whether a patient is at risk in 10 years for coronary heart disease (CHD). This will in turn help the hospital create a treatment/preventative plan for at-risk patients early on, and hopefully prevent CHD from developing.    "
   ]
  },
  {
   "cell_type": "markdown",
   "metadata": {},
   "source": [
    "## Data"
   ]
  },
  {
   "cell_type": "markdown",
   "metadata": {},
   "source": [
    "The Framingham Heart Study (https://www.framinghamheartstudy.org/fhs-about/) is a long term, ongoing study on cardiovascular disease (CVD). Started in 1948, the study looked at numerous factors such as age, gender, cholesterol levels, etc, and would eventually lead to the identification of several CVD risk factors. We'll be using the data from this study, which contains behavioral, demographical and medical variables (A full list and description of each variable can be found in the README file)."
   ]
  },
  {
   "cell_type": "markdown",
   "metadata": {},
   "source": [
    "### Preprocessing Our Data ###"
   ]
  },
  {
   "cell_type": "code",
   "execution_count": 1,
   "metadata": {},
   "outputs": [
    {
     "name": "stdout",
     "output_type": "stream",
     "text": [
      "<class 'pandas.core.frame.DataFrame'>\n",
      "RangeIndex: 4133 entries, 0 to 4132\n",
      "Data columns (total 16 columns):\n",
      " #   Column           Non-Null Count  Dtype  \n",
      "---  ------           --------------  -----  \n",
      " 0   male             4133 non-null   int64  \n",
      " 1   age              4133 non-null   int64  \n",
      " 2   education        4133 non-null   int64  \n",
      " 3   currentSmoker    4133 non-null   int64  \n",
      " 4   cigsPerDay       4133 non-null   float64\n",
      " 5   BPMeds           4133 non-null   float64\n",
      " 6   prevalentStroke  4133 non-null   int64  \n",
      " 7   prevalentHyp     4133 non-null   int64  \n",
      " 8   diabetes         4133 non-null   int64  \n",
      " 9   totChol          4133 non-null   float64\n",
      " 10  sysBP            4133 non-null   float64\n",
      " 11  diaBP            4133 non-null   float64\n",
      " 12  BMI              4133 non-null   float64\n",
      " 13  heartRate        4133 non-null   float64\n",
      " 14  glucose          4133 non-null   float64\n",
      " 15  TenYearCHD       4133 non-null   int64  \n",
      "dtypes: float64(8), int64(8)\n",
      "memory usage: 516.8 KB\n"
     ]
    }
   ],
   "source": [
    "import pandas as pd\n",
    "\n",
    "#Let's look at our data\n",
    "df = pd.read_csv(\"Framingham.csv\")\n",
    "df.info()"
   ]
  },
  {
   "cell_type": "code",
   "execution_count": 2,
   "metadata": {
    "scrolled": false
   },
   "outputs": [
    {
     "data": {
      "text/html": [
       "<div>\n",
       "<style scoped>\n",
       "    .dataframe tbody tr th:only-of-type {\n",
       "        vertical-align: middle;\n",
       "    }\n",
       "\n",
       "    .dataframe tbody tr th {\n",
       "        vertical-align: top;\n",
       "    }\n",
       "\n",
       "    .dataframe thead th {\n",
       "        text-align: right;\n",
       "    }\n",
       "</style>\n",
       "<table border=\"1\" class=\"dataframe\">\n",
       "  <thead>\n",
       "    <tr style=\"text-align: right;\">\n",
       "      <th></th>\n",
       "      <th>male</th>\n",
       "      <th>age</th>\n",
       "      <th>education</th>\n",
       "      <th>currentSmoker</th>\n",
       "      <th>cigsPerDay</th>\n",
       "      <th>BPMeds</th>\n",
       "      <th>prevalentStroke</th>\n",
       "      <th>prevalentHyp</th>\n",
       "      <th>diabetes</th>\n",
       "      <th>totChol</th>\n",
       "      <th>sysBP</th>\n",
       "      <th>diaBP</th>\n",
       "      <th>BMI</th>\n",
       "      <th>heartRate</th>\n",
       "      <th>glucose</th>\n",
       "      <th>TenYearCHD</th>\n",
       "    </tr>\n",
       "  </thead>\n",
       "  <tbody>\n",
       "    <tr>\n",
       "      <th>0</th>\n",
       "      <td>1</td>\n",
       "      <td>39</td>\n",
       "      <td>1</td>\n",
       "      <td>0</td>\n",
       "      <td>0.0</td>\n",
       "      <td>0.0</td>\n",
       "      <td>0</td>\n",
       "      <td>0</td>\n",
       "      <td>0</td>\n",
       "      <td>195.0</td>\n",
       "      <td>106.0</td>\n",
       "      <td>70.0</td>\n",
       "      <td>26.97</td>\n",
       "      <td>80.0</td>\n",
       "      <td>77.0</td>\n",
       "      <td>0</td>\n",
       "    </tr>\n",
       "    <tr>\n",
       "      <th>1</th>\n",
       "      <td>0</td>\n",
       "      <td>46</td>\n",
       "      <td>0</td>\n",
       "      <td>0</td>\n",
       "      <td>0.0</td>\n",
       "      <td>0.0</td>\n",
       "      <td>0</td>\n",
       "      <td>0</td>\n",
       "      <td>0</td>\n",
       "      <td>250.0</td>\n",
       "      <td>121.0</td>\n",
       "      <td>81.0</td>\n",
       "      <td>28.73</td>\n",
       "      <td>95.0</td>\n",
       "      <td>76.0</td>\n",
       "      <td>0</td>\n",
       "    </tr>\n",
       "    <tr>\n",
       "      <th>2</th>\n",
       "      <td>1</td>\n",
       "      <td>48</td>\n",
       "      <td>0</td>\n",
       "      <td>1</td>\n",
       "      <td>20.0</td>\n",
       "      <td>0.0</td>\n",
       "      <td>0</td>\n",
       "      <td>0</td>\n",
       "      <td>0</td>\n",
       "      <td>245.0</td>\n",
       "      <td>127.5</td>\n",
       "      <td>80.0</td>\n",
       "      <td>25.34</td>\n",
       "      <td>75.0</td>\n",
       "      <td>70.0</td>\n",
       "      <td>0</td>\n",
       "    </tr>\n",
       "    <tr>\n",
       "      <th>3</th>\n",
       "      <td>0</td>\n",
       "      <td>61</td>\n",
       "      <td>1</td>\n",
       "      <td>1</td>\n",
       "      <td>30.0</td>\n",
       "      <td>0.0</td>\n",
       "      <td>0</td>\n",
       "      <td>1</td>\n",
       "      <td>0</td>\n",
       "      <td>225.0</td>\n",
       "      <td>150.0</td>\n",
       "      <td>95.0</td>\n",
       "      <td>28.58</td>\n",
       "      <td>65.0</td>\n",
       "      <td>103.0</td>\n",
       "      <td>1</td>\n",
       "    </tr>\n",
       "    <tr>\n",
       "      <th>4</th>\n",
       "      <td>0</td>\n",
       "      <td>46</td>\n",
       "      <td>1</td>\n",
       "      <td>1</td>\n",
       "      <td>23.0</td>\n",
       "      <td>0.0</td>\n",
       "      <td>0</td>\n",
       "      <td>0</td>\n",
       "      <td>0</td>\n",
       "      <td>285.0</td>\n",
       "      <td>130.0</td>\n",
       "      <td>84.0</td>\n",
       "      <td>23.10</td>\n",
       "      <td>85.0</td>\n",
       "      <td>85.0</td>\n",
       "      <td>0</td>\n",
       "    </tr>\n",
       "  </tbody>\n",
       "</table>\n",
       "</div>"
      ],
      "text/plain": [
       "   male  age  education  currentSmoker  cigsPerDay  BPMeds  prevalentStroke  \\\n",
       "0     1   39          1              0         0.0     0.0                0   \n",
       "1     0   46          0              0         0.0     0.0                0   \n",
       "2     1   48          0              1        20.0     0.0                0   \n",
       "3     0   61          1              1        30.0     0.0                0   \n",
       "4     0   46          1              1        23.0     0.0                0   \n",
       "\n",
       "   prevalentHyp  diabetes  totChol  sysBP  diaBP    BMI  heartRate  glucose  \\\n",
       "0             0         0    195.0  106.0   70.0  26.97       80.0     77.0   \n",
       "1             0         0    250.0  121.0   81.0  28.73       95.0     76.0   \n",
       "2             0         0    245.0  127.5   80.0  25.34       75.0     70.0   \n",
       "3             1         0    225.0  150.0   95.0  28.58       65.0    103.0   \n",
       "4             0         0    285.0  130.0   84.0  23.10       85.0     85.0   \n",
       "\n",
       "   TenYearCHD  \n",
       "0           0  \n",
       "1           0  \n",
       "2           0  \n",
       "3           1  \n",
       "4           0  "
      ]
     },
     "execution_count": 2,
     "metadata": {},
     "output_type": "execute_result"
    }
   ],
   "source": [
    "df.head()"
   ]
  },
  {
   "cell_type": "code",
   "execution_count": 3,
   "metadata": {
    "scrolled": true
   },
   "outputs": [],
   "source": [
    "#Let's convert BPMeds from a float to an int\n",
    "df[\"BPMeds\"] = df[\"BPMeds\"].astype(\"int64\")"
   ]
  },
  {
   "cell_type": "code",
   "execution_count": 4,
   "metadata": {},
   "outputs": [
    {
     "name": "stdout",
     "output_type": "stream",
     "text": [
      "<class 'pandas.core.frame.DataFrame'>\n",
      "RangeIndex: 4133 entries, 0 to 4132\n",
      "Data columns (total 16 columns):\n",
      " #   Column           Non-Null Count  Dtype  \n",
      "---  ------           --------------  -----  \n",
      " 0   male             4133 non-null   int64  \n",
      " 1   age              4133 non-null   int64  \n",
      " 2   education        4133 non-null   int64  \n",
      " 3   currentSmoker    4133 non-null   int64  \n",
      " 4   cigsPerDay       4133 non-null   float64\n",
      " 5   BPMeds           4133 non-null   int64  \n",
      " 6   prevalentStroke  4133 non-null   int64  \n",
      " 7   prevalentHyp     4133 non-null   int64  \n",
      " 8   diabetes         4133 non-null   int64  \n",
      " 9   totChol          4133 non-null   float64\n",
      " 10  sysBP            4133 non-null   float64\n",
      " 11  diaBP            4133 non-null   float64\n",
      " 12  BMI              4133 non-null   float64\n",
      " 13  heartRate        4133 non-null   float64\n",
      " 14  glucose          4133 non-null   float64\n",
      " 15  TenYearCHD       4133 non-null   int64  \n",
      "dtypes: float64(7), int64(9)\n",
      "memory usage: 516.8 KB\n"
     ]
    }
   ],
   "source": [
    "df.info()"
   ]
  },
  {
   "cell_type": "code",
   "execution_count": 5,
   "metadata": {
    "scrolled": true
   },
   "outputs": [
    {
     "data": {
      "text/plain": [
       "male               0\n",
       "age                0\n",
       "education          0\n",
       "currentSmoker      0\n",
       "cigsPerDay         0\n",
       "BPMeds             0\n",
       "prevalentStroke    0\n",
       "prevalentHyp       0\n",
       "diabetes           0\n",
       "totChol            0\n",
       "sysBP              0\n",
       "diaBP              0\n",
       "BMI                0\n",
       "heartRate          0\n",
       "glucose            0\n",
       "TenYearCHD         0\n",
       "dtype: int64"
      ]
     },
     "execution_count": 5,
     "metadata": {},
     "output_type": "execute_result"
    }
   ],
   "source": [
    "##Let's check for null values\n",
    "\n",
    "df.isnull().sum()\n"
   ]
  },
  {
   "cell_type": "code",
   "execution_count": 6,
   "metadata": {
    "scrolled": true
   },
   "outputs": [
    {
     "data": {
      "text/html": [
       "<div>\n",
       "<style scoped>\n",
       "    .dataframe tbody tr th:only-of-type {\n",
       "        vertical-align: middle;\n",
       "    }\n",
       "\n",
       "    .dataframe tbody tr th {\n",
       "        vertical-align: top;\n",
       "    }\n",
       "\n",
       "    .dataframe thead th {\n",
       "        text-align: right;\n",
       "    }\n",
       "</style>\n",
       "<table border=\"1\" class=\"dataframe\">\n",
       "  <thead>\n",
       "    <tr style=\"text-align: right;\">\n",
       "      <th></th>\n",
       "      <th>male</th>\n",
       "      <th>age</th>\n",
       "      <th>education</th>\n",
       "      <th>currentSmoker</th>\n",
       "      <th>cigsPerDay</th>\n",
       "      <th>BPMeds</th>\n",
       "      <th>prevalentStroke</th>\n",
       "      <th>prevalentHyp</th>\n",
       "      <th>diabetes</th>\n",
       "      <th>totChol</th>\n",
       "      <th>sysBP</th>\n",
       "      <th>diaBP</th>\n",
       "      <th>BMI</th>\n",
       "      <th>heartRate</th>\n",
       "      <th>glucose</th>\n",
       "      <th>TenYearCHD</th>\n",
       "    </tr>\n",
       "  </thead>\n",
       "  <tbody>\n",
       "    <tr>\n",
       "      <th>0</th>\n",
       "      <td>1</td>\n",
       "      <td>39</td>\n",
       "      <td>1</td>\n",
       "      <td>0</td>\n",
       "      <td>0.0</td>\n",
       "      <td>0</td>\n",
       "      <td>0</td>\n",
       "      <td>0</td>\n",
       "      <td>0</td>\n",
       "      <td>195.0</td>\n",
       "      <td>106.0</td>\n",
       "      <td>70.0</td>\n",
       "      <td>26.97</td>\n",
       "      <td>80.0</td>\n",
       "      <td>77.0</td>\n",
       "      <td>0</td>\n",
       "    </tr>\n",
       "    <tr>\n",
       "      <th>1</th>\n",
       "      <td>0</td>\n",
       "      <td>46</td>\n",
       "      <td>0</td>\n",
       "      <td>0</td>\n",
       "      <td>0.0</td>\n",
       "      <td>0</td>\n",
       "      <td>0</td>\n",
       "      <td>0</td>\n",
       "      <td>0</td>\n",
       "      <td>250.0</td>\n",
       "      <td>121.0</td>\n",
       "      <td>81.0</td>\n",
       "      <td>28.73</td>\n",
       "      <td>95.0</td>\n",
       "      <td>76.0</td>\n",
       "      <td>0</td>\n",
       "    </tr>\n",
       "    <tr>\n",
       "      <th>2</th>\n",
       "      <td>1</td>\n",
       "      <td>48</td>\n",
       "      <td>0</td>\n",
       "      <td>1</td>\n",
       "      <td>20.0</td>\n",
       "      <td>0</td>\n",
       "      <td>0</td>\n",
       "      <td>0</td>\n",
       "      <td>0</td>\n",
       "      <td>245.0</td>\n",
       "      <td>127.5</td>\n",
       "      <td>80.0</td>\n",
       "      <td>25.34</td>\n",
       "      <td>75.0</td>\n",
       "      <td>70.0</td>\n",
       "      <td>0</td>\n",
       "    </tr>\n",
       "    <tr>\n",
       "      <th>3</th>\n",
       "      <td>0</td>\n",
       "      <td>61</td>\n",
       "      <td>1</td>\n",
       "      <td>1</td>\n",
       "      <td>30.0</td>\n",
       "      <td>0</td>\n",
       "      <td>0</td>\n",
       "      <td>1</td>\n",
       "      <td>0</td>\n",
       "      <td>225.0</td>\n",
       "      <td>150.0</td>\n",
       "      <td>95.0</td>\n",
       "      <td>28.58</td>\n",
       "      <td>65.0</td>\n",
       "      <td>103.0</td>\n",
       "      <td>1</td>\n",
       "    </tr>\n",
       "    <tr>\n",
       "      <th>4</th>\n",
       "      <td>0</td>\n",
       "      <td>46</td>\n",
       "      <td>1</td>\n",
       "      <td>1</td>\n",
       "      <td>23.0</td>\n",
       "      <td>0</td>\n",
       "      <td>0</td>\n",
       "      <td>0</td>\n",
       "      <td>0</td>\n",
       "      <td>285.0</td>\n",
       "      <td>130.0</td>\n",
       "      <td>84.0</td>\n",
       "      <td>23.10</td>\n",
       "      <td>85.0</td>\n",
       "      <td>85.0</td>\n",
       "      <td>0</td>\n",
       "    </tr>\n",
       "    <tr>\n",
       "      <th>...</th>\n",
       "      <td>...</td>\n",
       "      <td>...</td>\n",
       "      <td>...</td>\n",
       "      <td>...</td>\n",
       "      <td>...</td>\n",
       "      <td>...</td>\n",
       "      <td>...</td>\n",
       "      <td>...</td>\n",
       "      <td>...</td>\n",
       "      <td>...</td>\n",
       "      <td>...</td>\n",
       "      <td>...</td>\n",
       "      <td>...</td>\n",
       "      <td>...</td>\n",
       "      <td>...</td>\n",
       "      <td>...</td>\n",
       "    </tr>\n",
       "    <tr>\n",
       "      <th>4128</th>\n",
       "      <td>1</td>\n",
       "      <td>50</td>\n",
       "      <td>0</td>\n",
       "      <td>1</td>\n",
       "      <td>1.0</td>\n",
       "      <td>0</td>\n",
       "      <td>0</td>\n",
       "      <td>1</td>\n",
       "      <td>0</td>\n",
       "      <td>313.0</td>\n",
       "      <td>179.0</td>\n",
       "      <td>92.0</td>\n",
       "      <td>25.97</td>\n",
       "      <td>66.0</td>\n",
       "      <td>86.0</td>\n",
       "      <td>1</td>\n",
       "    </tr>\n",
       "    <tr>\n",
       "      <th>4129</th>\n",
       "      <td>1</td>\n",
       "      <td>51</td>\n",
       "      <td>1</td>\n",
       "      <td>1</td>\n",
       "      <td>43.0</td>\n",
       "      <td>0</td>\n",
       "      <td>0</td>\n",
       "      <td>0</td>\n",
       "      <td>0</td>\n",
       "      <td>207.0</td>\n",
       "      <td>126.5</td>\n",
       "      <td>80.0</td>\n",
       "      <td>19.71</td>\n",
       "      <td>65.0</td>\n",
       "      <td>68.0</td>\n",
       "      <td>0</td>\n",
       "    </tr>\n",
       "    <tr>\n",
       "      <th>4130</th>\n",
       "      <td>0</td>\n",
       "      <td>48</td>\n",
       "      <td>0</td>\n",
       "      <td>1</td>\n",
       "      <td>20.0</td>\n",
       "      <td>0</td>\n",
       "      <td>0</td>\n",
       "      <td>0</td>\n",
       "      <td>0</td>\n",
       "      <td>248.0</td>\n",
       "      <td>131.0</td>\n",
       "      <td>72.0</td>\n",
       "      <td>22.00</td>\n",
       "      <td>84.0</td>\n",
       "      <td>86.0</td>\n",
       "      <td>0</td>\n",
       "    </tr>\n",
       "    <tr>\n",
       "      <th>4131</th>\n",
       "      <td>0</td>\n",
       "      <td>44</td>\n",
       "      <td>0</td>\n",
       "      <td>1</td>\n",
       "      <td>15.0</td>\n",
       "      <td>0</td>\n",
       "      <td>0</td>\n",
       "      <td>0</td>\n",
       "      <td>0</td>\n",
       "      <td>210.0</td>\n",
       "      <td>126.5</td>\n",
       "      <td>87.0</td>\n",
       "      <td>19.16</td>\n",
       "      <td>86.0</td>\n",
       "      <td>82.0</td>\n",
       "      <td>0</td>\n",
       "    </tr>\n",
       "    <tr>\n",
       "      <th>4132</th>\n",
       "      <td>0</td>\n",
       "      <td>52</td>\n",
       "      <td>0</td>\n",
       "      <td>0</td>\n",
       "      <td>0.0</td>\n",
       "      <td>0</td>\n",
       "      <td>0</td>\n",
       "      <td>0</td>\n",
       "      <td>0</td>\n",
       "      <td>269.0</td>\n",
       "      <td>133.5</td>\n",
       "      <td>83.0</td>\n",
       "      <td>21.47</td>\n",
       "      <td>80.0</td>\n",
       "      <td>107.0</td>\n",
       "      <td>0</td>\n",
       "    </tr>\n",
       "  </tbody>\n",
       "</table>\n",
       "<p>4133 rows × 16 columns</p>\n",
       "</div>"
      ],
      "text/plain": [
       "      male  age  education  currentSmoker  cigsPerDay  BPMeds  \\\n",
       "0        1   39          1              0         0.0       0   \n",
       "1        0   46          0              0         0.0       0   \n",
       "2        1   48          0              1        20.0       0   \n",
       "3        0   61          1              1        30.0       0   \n",
       "4        0   46          1              1        23.0       0   \n",
       "...    ...  ...        ...            ...         ...     ...   \n",
       "4128     1   50          0              1         1.0       0   \n",
       "4129     1   51          1              1        43.0       0   \n",
       "4130     0   48          0              1        20.0       0   \n",
       "4131     0   44          0              1        15.0       0   \n",
       "4132     0   52          0              0         0.0       0   \n",
       "\n",
       "      prevalentStroke  prevalentHyp  diabetes  totChol  sysBP  diaBP    BMI  \\\n",
       "0                   0             0         0    195.0  106.0   70.0  26.97   \n",
       "1                   0             0         0    250.0  121.0   81.0  28.73   \n",
       "2                   0             0         0    245.0  127.5   80.0  25.34   \n",
       "3                   0             1         0    225.0  150.0   95.0  28.58   \n",
       "4                   0             0         0    285.0  130.0   84.0  23.10   \n",
       "...               ...           ...       ...      ...    ...    ...    ...   \n",
       "4128                0             1         0    313.0  179.0   92.0  25.97   \n",
       "4129                0             0         0    207.0  126.5   80.0  19.71   \n",
       "4130                0             0         0    248.0  131.0   72.0  22.00   \n",
       "4131                0             0         0    210.0  126.5   87.0  19.16   \n",
       "4132                0             0         0    269.0  133.5   83.0  21.47   \n",
       "\n",
       "      heartRate  glucose  TenYearCHD  \n",
       "0          80.0     77.0           0  \n",
       "1          95.0     76.0           0  \n",
       "2          75.0     70.0           0  \n",
       "3          65.0    103.0           1  \n",
       "4          85.0     85.0           0  \n",
       "...         ...      ...         ...  \n",
       "4128       66.0     86.0           1  \n",
       "4129       65.0     68.0           0  \n",
       "4130       84.0     86.0           0  \n",
       "4131       86.0     82.0           0  \n",
       "4132       80.0    107.0           0  \n",
       "\n",
       "[4133 rows x 16 columns]"
      ]
     },
     "execution_count": 6,
     "metadata": {},
     "output_type": "execute_result"
    }
   ],
   "source": [
    "#Let's check for duplicates\n",
    "df.drop_duplicates(inplace = True)\n",
    "df"
   ]
  },
  {
   "cell_type": "markdown",
   "metadata": {},
   "source": [
    "### Splitting The Data"
   ]
  },
  {
   "cell_type": "code",
   "execution_count": 7,
   "metadata": {},
   "outputs": [],
   "source": [
    "from sklearn.model_selection import train_test_split\n",
    "from sklearn.preprocessing import StandardScaler\n",
    "\n",
    "#Our target variable is TenYearCHD\n",
    "X = df.drop(\"TenYearCHD\", axis = 1)\n",
    "y = df[\"TenYearCHD\"]\n",
    "\n",
    "X_train, X_test, y_train, y_test = train_test_split(X, y, stratify = y)\n",
    "\n",
    "#Let's scale our data\n",
    "SS = StandardScaler()\n",
    "X_train = SS.fit_transform(X_train)\n",
    "X_test = SS.transform(X_test)"
   ]
  },
  {
   "cell_type": "code",
   "execution_count": 8,
   "metadata": {},
   "outputs": [
    {
     "data": {
      "text/plain": [
       "0    3505\n",
       "1     628\n",
       "Name: TenYearCHD, dtype: int64"
      ]
     },
     "execution_count": 8,
     "metadata": {},
     "output_type": "execute_result"
    }
   ],
   "source": [
    "#Let's take a look at our value counts for our target \"TenYearCHD\"\n",
    "df[\"TenYearCHD\"].value_counts()"
   ]
  },
  {
   "cell_type": "markdown",
   "metadata": {},
   "source": [
    "**It looks like our data is imbalanced, so let's use SMOTE to resample.**"
   ]
  },
  {
   "cell_type": "code",
   "execution_count": 9,
   "metadata": {},
   "outputs": [],
   "source": [
    "from imblearn.over_sampling import SMOTE\n",
    "\n",
    "sm = SMOTE()\n",
    "X_train, y_train = sm.fit_sample(X_train, y_train)"
   ]
  },
  {
   "cell_type": "markdown",
   "metadata": {},
   "source": [
    "## The Algorithms"
   ]
  },
  {
   "cell_type": "markdown",
   "metadata": {},
   "source": [
    "Using three different classification algorithms, we'll look at how well our models can predict whether a patient is at risk (in  10 years) for CVD. We'll use logistic regression as a base model, then use a Decision Tree algorithm, then finally build upon our Decision Tree with a Random Forest algorithm. After running our base models, we'll attempt to improve upon our Decision Tree and Random Forest algorithms."
   ]
  },
  {
   "cell_type": "markdown",
   "metadata": {},
   "source": [
    "### Logistic Regression"
   ]
  },
  {
   "cell_type": "code",
   "execution_count": 10,
   "metadata": {},
   "outputs": [],
   "source": [
    "#Let's build a logistic regression model\n",
    "from sklearn.linear_model import LogisticRegression\n",
    "\n",
    "baseline_model = LogisticRegression(solver = \"saga\")\n",
    "\n",
    "#Fit our model and predict\n",
    "baseline_model.fit(X_train, y_train)\n",
    "y_train_pred = baseline_model.predict(X_train)\n",
    "y_test_pred = baseline_model.predict(X_test)\n"
   ]
  },
  {
   "cell_type": "code",
   "execution_count": 11,
   "metadata": {},
   "outputs": [
    {
     "name": "stdout",
     "output_type": "stream",
     "text": [
      "              precision    recall  f1-score   support\n",
      "\n",
      "           0       0.68      0.68      0.68      2628\n",
      "           1       0.68      0.69      0.68      2628\n",
      "\n",
      "    accuracy                           0.68      5256\n",
      "   macro avg       0.68      0.68      0.68      5256\n",
      "weighted avg       0.68      0.68      0.68      5256\n",
      "\n"
     ]
    }
   ],
   "source": [
    "from sklearn.metrics import classification_report\n",
    "\n",
    "print(classification_report(y_train, y_train_pred))"
   ]
  },
  {
   "cell_type": "code",
   "execution_count": 12,
   "metadata": {},
   "outputs": [
    {
     "name": "stdout",
     "output_type": "stream",
     "text": [
      "              precision    recall  f1-score   support\n",
      "\n",
      "           0       0.91      0.69      0.78       877\n",
      "           1       0.26      0.62      0.37       157\n",
      "\n",
      "    accuracy                           0.68      1034\n",
      "   macro avg       0.59      0.65      0.58      1034\n",
      "weighted avg       0.81      0.68      0.72      1034\n",
      "\n"
     ]
    }
   ],
   "source": [
    "print(classification_report(y_test, y_test_pred))"
   ]
  },
  {
   "cell_type": "code",
   "execution_count": 13,
   "metadata": {},
   "outputs": [
    {
     "data": {
      "image/png": "[encoded data removed]",
      "text/plain": [
       "<Figure size 432x288 with 2 Axes>"
      ]
     },
     "metadata": {
      "needs_background": "light"
     },
     "output_type": "display_data"
    }
   ],
   "source": [
    "#Let's create a confusion matrix\n",
    "from sklearn.metrics import confusion_matrix\n",
    "from sklearn.metrics import plot_confusion_matrix\n",
    "\n",
    "plot_confusion_matrix(baseline_model, X_test, y_test);"
   ]
  },
  {
   "cell_type": "markdown",
   "metadata": {},
   "source": [
    "**We can see that our model is slightly overfitting, but let's take a look at our classification summary results.**\n",
    "\n",
    "For our test model class 1 (meaning the patient is at risk for coronary heart disease) we have a precision score of .28, a recall score of .70, and an f1 score of .39. This means that:\n",
    "\n",
    "* Out of all the patients that the model predicted would be at risk for CHD, 28% were actually at risk.\n",
    "* Out of all the patients that were at risk for CHD, the model correctly predicted 70% of them\n",
    "* Our model has a low f1 score, indicating poor performance on predicting risk of CHD.\n",
    "\n",
    "**We can also see the true negative, false negative, false positive and true positive values for our test model (from our confusion matrix), where:**\n",
    "\n",
    "* 587 patients were correctly predicted as not being at risk for CHD\n",
    "* 47 patients were wrongly predicted as not being at risk for CHD\n",
    "* 290 patients were wrongly predicted as being at risk for CHD\n",
    "* 110 patients were correctly predicted as being at risk for CHD"
   ]
  },
  {
   "cell_type": "markdown",
   "metadata": {},
   "source": [
    "### Decision Tree"
   ]
  },
  {
   "cell_type": "code",
   "execution_count": 14,
   "metadata": {},
   "outputs": [],
   "source": [
    "from sklearn.tree import DecisionTreeClassifier\n",
    "\n",
    "dtc = DecisionTreeClassifier(criterion = \"entropy\")\n",
    "\n",
    "#Fit our model and predict\n",
    "dtc.fit(X_train, y_train)\n",
    "dtc_train_pred = dtc.predict(X_train)\n",
    "dtc_test_pred = dtc.predict(X_test)\n"
   ]
  },
  {
   "cell_type": "code",
   "execution_count": 15,
   "metadata": {},
   "outputs": [
    {
     "name": "stdout",
     "output_type": "stream",
     "text": [
      "              precision    recall  f1-score   support\n",
      "\n",
      "           0       1.00      1.00      1.00      2628\n",
      "           1       1.00      1.00      1.00      2628\n",
      "\n",
      "    accuracy                           1.00      5256\n",
      "   macro avg       1.00      1.00      1.00      5256\n",
      "weighted avg       1.00      1.00      1.00      5256\n",
      "\n"
     ]
    }
   ],
   "source": [
    "print(classification_report(y_train, dtc_train_pred))"
   ]
  },
  {
   "cell_type": "code",
   "execution_count": 16,
   "metadata": {},
   "outputs": [
    {
     "name": "stdout",
     "output_type": "stream",
     "text": [
      "              precision    recall  f1-score   support\n",
      "\n",
      "           0       0.85      0.80      0.83       877\n",
      "           1       0.17      0.23      0.20       157\n",
      "\n",
      "    accuracy                           0.71      1034\n",
      "   macro avg       0.51      0.52      0.51      1034\n",
      "weighted avg       0.75      0.71      0.73      1034\n",
      "\n"
     ]
    }
   ],
   "source": [
    "print(classification_report(y_test, dtc_test_pred))"
   ]
  },
  {
   "cell_type": "code",
   "execution_count": 17,
   "metadata": {},
   "outputs": [
    {
     "data": {
      "image/png": "[encoded data removed]",
      "text/plain": [
       "<Figure size 432x288 with 2 Axes>"
      ]
     },
     "metadata": {
      "needs_background": "light"
     },
     "output_type": "display_data"
    }
   ],
   "source": [
    "plot_confusion_matrix(dtc, X_test, y_test);"
   ]
  },
  {
   "cell_type": "markdown",
   "metadata": {},
   "source": [
    "**This time our model is greatly overfitting. Let's take a look at our classification report results**\n",
    "\n",
    "For our test model class 1 (meaning the patient is at risk for coronary heart disease) we have a precision score of .20, a recall score of .29, and an f1 score of .24, meaning: \n",
    "\n",
    "* Out of all the patients that the model predicted would be at risk for CHD, 20% were actually at risk.\n",
    "* Out of all the patients that were at risk for CHD, the model correctly predicted 29% of them\n",
    "* Our model has a low f1 score, indicating poor performance on predicting risk of CHD.\n",
    "\n",
    "\n",
    "**Looking at our test model confusion matrix we can see that:**\n",
    "* 691 patients were correctly predicted as not being at risk for CHD\n",
    "* 111 patients were wrongly predicted as not being at risk for CHD\n",
    "* 186 patients were wrongly predicted as being at risk for CHD\n",
    "* 46 patients were correctly predicted as being at risk for CHD"
   ]
  },
  {
   "cell_type": "markdown",
   "metadata": {},
   "source": [
    "### Random Forest"
   ]
  },
  {
   "cell_type": "code",
   "execution_count": 18,
   "metadata": {},
   "outputs": [],
   "source": [
    "from sklearn.ensemble import RandomForestClassifier\n",
    "\n",
    "rf = RandomForestClassifier()\n",
    "rf.fit(X_train, y_train)\n",
    "rf_train_pred = rf.predict(X_train)\n",
    "rf_test_pred = rf.predict(X_test)\n"
   ]
  },
  {
   "cell_type": "code",
   "execution_count": 19,
   "metadata": {},
   "outputs": [
    {
     "name": "stdout",
     "output_type": "stream",
     "text": [
      "              precision    recall  f1-score   support\n",
      "\n",
      "           0       1.00      1.00      1.00      2628\n",
      "           1       1.00      1.00      1.00      2628\n",
      "\n",
      "    accuracy                           1.00      5256\n",
      "   macro avg       1.00      1.00      1.00      5256\n",
      "weighted avg       1.00      1.00      1.00      5256\n",
      "\n"
     ]
    }
   ],
   "source": [
    "print(classification_report(y_train, rf_train_pred))"
   ]
  },
  {
   "cell_type": "code",
   "execution_count": 20,
   "metadata": {},
   "outputs": [
    {
     "name": "stdout",
     "output_type": "stream",
     "text": [
      "              precision    recall  f1-score   support\n",
      "\n",
      "           0       0.87      0.90      0.89       877\n",
      "           1       0.32      0.26      0.29       157\n",
      "\n",
      "    accuracy                           0.80      1034\n",
      "   macro avg       0.60      0.58      0.59      1034\n",
      "weighted avg       0.79      0.80      0.80      1034\n",
      "\n"
     ]
    }
   ],
   "source": [
    "print(classification_report(y_test, rf_test_pred))"
   ]
  },
  {
   "cell_type": "code",
   "execution_count": 21,
   "metadata": {},
   "outputs": [
    {
     "data": {
      "image/png": "[encoded data removed]",
      "text/plain": [
       "<Figure size 432x288 with 2 Axes>"
      ]
     },
     "metadata": {
      "needs_background": "light"
     },
     "output_type": "display_data"
    }
   ],
   "source": [
    "plot_confusion_matrix(rf, X_test, y_test);"
   ]
  },
  {
   "cell_type": "markdown",
   "metadata": {},
   "source": [
    "**Again, our model is greatly overfitting. Let's take a look at our classification report results**\n",
    "\n",
    "For our test model class 1 (meaning the patient is at risk for coronary heart disease) we have a precision score of .31, a recall score of .27, and an f1 score of .29, meaning:\n",
    "\n",
    "* Out of all the patients that the model predicted would be at risk for CHD, 31% were actually at risk.\n",
    "* Out of all the patients that were at risk for CHD, the model correctly predicted 27% of them\n",
    "* Our model has a low f1 score, indicating poor performance on predicting risk of CHD.\n",
    "\n",
    "\n",
    "**For our last model's confusion matrix we can see that:**\n",
    "* 784 patients were correctly predicted as not being at risk for CHD\n",
    "* 115 patients were wrongly predicted as not being at risk for CHD\n",
    "* 93 patients were wrongly predicted as being at risk for CHD\n",
    "* 42 patients were correctly predicted as being at risk for CHD"
   ]
  },
  {
   "cell_type": "markdown",
   "metadata": {},
   "source": [
    "## Improving The Models"
   ]
  },
  {
   "cell_type": "markdown",
   "metadata": {},
   "source": [
    "### 1) Decision Tree"
   ]
  },
  {
   "cell_type": "markdown",
   "metadata": {},
   "source": [
    "We'll see how manipulating the **max_depth** and **min_samples_split** hyperparameters in our decision tree model will affect our evaluation metrics.\n",
    "\n"
   ]
  },
  {
   "cell_type": "markdown",
   "metadata": {},
   "source": [
    "### max_depth ###"
   ]
  },
  {
   "cell_type": "code",
   "execution_count": 22,
   "metadata": {},
   "outputs": [
    {
     "data": {
      "image/png": "[encoded data removed]",
      "text/plain": [
       "<Figure size 864x432 with 1 Axes>"
      ]
     },
     "metadata": {
      "needs_background": "light"
     },
     "output_type": "display_data"
    }
   ],
   "source": [
    "from sklearn.metrics import roc_curve, auc\n",
    "import matplotlib.pyplot as plt\n",
    "\n",
    "#Let's plot our ROC curve\n",
    "\n",
    "max_depths = list(range(1,50))\n",
    "train_results = []\n",
    "test_results = []\n",
    "\n",
    "for depth in max_depths:\n",
    "    dtc2 = DecisionTreeClassifier(criterion = \"entropy\", max_depth = depth)\n",
    "    dtc2.fit(X_train, y_train)\n",
    "    dtc_pred2 = dtc2.predict(X_train)\n",
    "    false_positive_rate, true_positive_rate, thresholds = roc_curve(y_train, dtc_pred2)\n",
    "    roc_auc = auc(false_positive_rate, true_positive_rate)\n",
    "    train_results.append(roc_auc)\n",
    "    y_dtc_pred = dtc2.predict(X_test)\n",
    "    false_positive_rate, true_positive_rate, thresholds = roc_curve(y_test, y_dtc_pred)\n",
    "    roc_auc = auc(false_positive_rate, true_positive_rate)\n",
    "    test_results.append(roc_auc)\n",
    "\n",
    "plt.figure(figsize = (12,6))\n",
    "plt.plot(max_depths,train_results, \"b\", label = \"Train AUC\");\n",
    "plt.plot(max_depths, test_results, \"r\", label = \"Test AUC\");\n",
    "plt.ylabel(\"AUC Score\");\n",
    "plt.xlabel(\"Tree Depth\");\n",
    "plt.legend();"
   ]
  },
  {
   "cell_type": "markdown",
   "metadata": {},
   "source": [
    "### min_samples_split ###"
   ]
  },
  {
   "cell_type": "code",
   "execution_count": 23,
   "metadata": {},
   "outputs": [
    {
     "data": {
      "image/png": "[encoded data removed]",
      "text/plain": [
       "<Figure size 864x432 with 1 Axes>"
      ]
     },
     "metadata": {
      "needs_background": "light"
     },
     "output_type": "display_data"
    }
   ],
   "source": [
    "import numpy as np\n",
    "min_samples_splits = np.linspace(0.1, 1.0, 20)\n",
    "train_results = []\n",
    "test_results = []\n",
    "for min_samples in min_samples_splits:\n",
    "    dtc2 = DecisionTreeClassifier(criterion='entropy', min_samples_split=min_samples)\n",
    "    dtc2.fit(X_train, y_train)\n",
    "    dtc_pred2 = dtc2.predict(X_train)\n",
    "    false_positive_rate, true_positive_rate, thresholds = roc_curve(y_train, dtc_pred2)\n",
    "    roc_auc = auc(false_positive_rate, true_positive_rate)\n",
    "    train_results.append(roc_auc)\n",
    "    y_dtc_pred = dtc2.predict(X_test)\n",
    "    false_positive_rate, true_positive_rate, thresholds = roc_curve(y_test, y_dtc_pred)\n",
    "    roc_auc = auc(false_positive_rate, true_positive_rate)\n",
    "    test_results.append(roc_auc)\n",
    "\n",
    "plt.figure(figsize=(12,6));\n",
    "plt.plot(min_samples_splits, train_results, 'b', label='Train AUC');\n",
    "plt.plot(min_samples_splits, test_results, 'r', label='Test AUC');\n",
    "plt.xlabel('Min. Sample splits');\n",
    "plt.ylabel(\"AUC Score\")\n",
    "plt.legend();"
   ]
  },
  {
   "cell_type": "code",
   "execution_count": null,
   "metadata": {},
   "outputs": [],
   "source": []
  },
  {
   "cell_type": "code",
   "execution_count": 24,
   "metadata": {
    "scrolled": true
   },
   "outputs": [
    {
     "data": {
      "text/plain": [
       "{'criterion': 'entropy', 'max_depth': 5, 'min_samples_split': 0.25}"
      ]
     },
     "execution_count": 24,
     "metadata": {},
     "output_type": "execute_result"
    }
   ],
   "source": [
    "from sklearn.model_selection import GridSearchCV\n",
    "\n",
    "dtc3 = DecisionTreeClassifier()\n",
    "#dtc3.fit(X_train, y_train)\n",
    "#dtc3_pred = dtc3.predict(X_test)\n",
    "\n",
    "\n",
    "param_grid = {\n",
    "    'criterion': ['entropy'],\n",
    "    'max_depth': [1, 2, 3, 4, 5, 6],\n",
    "    'min_samples_split': [0.2, 0.25, 0.3, 0.35, 0.4 ]\n",
    "}\n",
    "\n",
    "\n",
    "gs_tree = GridSearchCV(dtc3, param_grid)\n",
    "gs_tree.fit(X_train, y_train)\n",
    "gs_tree.best_params_\n"
   ]
  },
  {
   "cell_type": "code",
   "execution_count": 25,
   "metadata": {},
   "outputs": [
    {
     "name": "stdout",
     "output_type": "stream",
     "text": [
      "              precision    recall  f1-score   support\n",
      "\n",
      "           0       0.70      0.60      0.65      2628\n",
      "           1       0.65      0.74      0.69      2628\n",
      "\n",
      "    accuracy                           0.67      5256\n",
      "   macro avg       0.68      0.67      0.67      5256\n",
      "weighted avg       0.68      0.67      0.67      5256\n",
      "\n"
     ]
    }
   ],
   "source": [
    "gs_tree_train_pred = gs_tree.predict(X_train)\n",
    "print(classification_report(y_train, gs_tree_train_pred))"
   ]
  },
  {
   "cell_type": "code",
   "execution_count": 26,
   "metadata": {
    "scrolled": true
   },
   "outputs": [
    {
     "name": "stdout",
     "output_type": "stream",
     "text": [
      "              precision    recall  f1-score   support\n",
      "\n",
      "           0       0.92      0.60      0.73       877\n",
      "           1       0.24      0.69      0.35       157\n",
      "\n",
      "    accuracy                           0.62      1034\n",
      "   macro avg       0.58      0.65      0.54      1034\n",
      "weighted avg       0.81      0.62      0.67      1034\n",
      "\n"
     ]
    }
   ],
   "source": [
    "gs_tree_test_pred = gs_tree.predict(X_test)\n",
    "print(classification_report(y_test, gs_tree_test_pred))"
   ]
  },
  {
   "cell_type": "code",
   "execution_count": 27,
   "metadata": {},
   "outputs": [
    {
     "data": {
      "image/png": "[encoded data removed]",
      "text/plain": [
       "<Figure size 432x288 with 2 Axes>"
      ]
     },
     "metadata": {
      "needs_background": "light"
     },
     "output_type": "display_data"
    }
   ],
   "source": [
    "dt_model = gs_tree.best_estimator_\n",
    "plot_confusion_matrix(dt_model, X_test, y_test);"
   ]
  },
  {
   "cell_type": "markdown",
   "metadata": {},
   "source": [
    "### 2) Random Forest Classifier"
   ]
  },
  {
   "cell_type": "code",
   "execution_count": 28,
   "metadata": {},
   "outputs": [
    {
     "data": {
      "text/plain": [
       "{'max_depth': 100, 'min_samples_split': 10, 'n_estimators': 200}"
      ]
     },
     "execution_count": 28,
     "metadata": {},
     "output_type": "execute_result"
    }
   ],
   "source": [
    "rf2 = RandomForestClassifier()\n",
    "\n",
    "\n",
    "rand_for_grid = {\n",
    "    'n_estimators': [100, 150, 200],\n",
    "    \n",
    "    'max_depth': [10, 50, 100],\n",
    "    \n",
    "    'min_samples_split': [10, 20, 50]\n",
    "    \n",
    "    \n",
    "}\n",
    "\n",
    "gs_forest = GridSearchCV(rf2, rand_for_grid)\n",
    "\n",
    "gs_forest.fit(X_train, y_train)\n",
    "\n",
    "gs_forest.best_params_"
   ]
  },
  {
   "cell_type": "code",
   "execution_count": 29,
   "metadata": {},
   "outputs": [
    {
     "name": "stdout",
     "output_type": "stream",
     "text": [
      "              precision    recall  f1-score   support\n",
      "\n",
      "           0       0.99      0.99      0.99      2628\n",
      "           1       0.99      0.99      0.99      2628\n",
      "\n",
      "    accuracy                           0.99      5256\n",
      "   macro avg       0.99      0.99      0.99      5256\n",
      "weighted avg       0.99      0.99      0.99      5256\n",
      "\n"
     ]
    }
   ],
   "source": [
    "gs_forest_train_pred = gs_forest.predict(X_train)\n",
    "print(classification_report(y_train, gs_forest_train_pred))"
   ]
  },
  {
   "cell_type": "code",
   "execution_count": 30,
   "metadata": {
    "scrolled": true
   },
   "outputs": [
    {
     "name": "stdout",
     "output_type": "stream",
     "text": [
      "              precision    recall  f1-score   support\n",
      "\n",
      "           0       0.88      0.89      0.89       877\n",
      "           1       0.35      0.32      0.33       157\n",
      "\n",
      "    accuracy                           0.81      1034\n",
      "   macro avg       0.61      0.61      0.61      1034\n",
      "weighted avg       0.80      0.81      0.80      1034\n",
      "\n"
     ]
    }
   ],
   "source": [
    "gs_forest_test_pred = gs_forest.predict(X_test)\n",
    "print(classification_report(y_test, gs_forest_test_pred))"
   ]
  },
  {
   "cell_type": "code",
   "execution_count": 31,
   "metadata": {},
   "outputs": [
    {
     "data": {
      "text/plain": [
       "{'max_depth': 30, 'min_samples_split': 2, 'n_estimators': 200}"
      ]
     },
     "execution_count": 31,
     "metadata": {},
     "output_type": "execute_result"
    }
   ],
   "source": [
    "#Let's tune the hyperparamters some more\n",
    "\n",
    "rf3 = RandomForestClassifier()\n",
    "\n",
    "\n",
    "rand_for_grid = {\n",
    "    'n_estimators': [100, 150, 200],\n",
    "    \n",
    "    'max_depth': [30, 40, 50],\n",
    "    \n",
    "    'min_samples_split': [2, 5, 10]\n",
    "    \n",
    "}\n",
    "\n",
    "gs_forest_tune = GridSearchCV(rf3, rand_for_grid)\n",
    "gs_forest_tune.fit(X_train, y_train)\n",
    "\n",
    "gs_forest_tune.best_params_\n"
   ]
  },
  {
   "cell_type": "code",
   "execution_count": 32,
   "metadata": {},
   "outputs": [
    {
     "name": "stdout",
     "output_type": "stream",
     "text": [
      "              precision    recall  f1-score   support\n",
      "\n",
      "           0       1.00      1.00      1.00      2628\n",
      "           1       1.00      1.00      1.00      2628\n",
      "\n",
      "    accuracy                           1.00      5256\n",
      "   macro avg       1.00      1.00      1.00      5256\n",
      "weighted avg       1.00      1.00      1.00      5256\n",
      "\n"
     ]
    }
   ],
   "source": [
    "gs_forest_train_pred2 = gs_forest_tune.predict(X_train)\n",
    "print(classification_report(y_train, gs_forest_train_pred2))"
   ]
  },
  {
   "cell_type": "code",
   "execution_count": 33,
   "metadata": {},
   "outputs": [
    {
     "name": "stdout",
     "output_type": "stream",
     "text": [
      "              precision    recall  f1-score   support\n",
      "\n",
      "           0       0.88      0.90      0.89       877\n",
      "           1       0.34      0.29      0.31       157\n",
      "\n",
      "    accuracy                           0.81      1034\n",
      "   macro avg       0.61      0.59      0.60      1034\n",
      "weighted avg       0.80      0.81      0.80      1034\n",
      "\n"
     ]
    }
   ],
   "source": [
    "gs_forest_tune_pred = gs_forest_tune.predict(X_test )\n",
    "print(classification_report(y_test, gs_forest_tune_pred))"
   ]
  },
  {
   "cell_type": "code",
   "execution_count": 34,
   "metadata": {},
   "outputs": [
    {
     "data": {
      "text/plain": [
       "{'max_depth': 30, 'min_samples_split': 2, 'n_estimators': 150}"
      ]
     },
     "execution_count": 34,
     "metadata": {},
     "output_type": "execute_result"
    }
   ],
   "source": [
    "rf4 = RandomForestClassifier()\n",
    "\n",
    "\n",
    "rand_for_grid = {\n",
    "    'n_estimators': [100, 150, 200],\n",
    "    \n",
    "    'max_depth': [20, 25, 30],\n",
    "    \n",
    "    'min_samples_split': [2, 4, 6, 8]\n",
    "    \n",
    "}\n",
    "\n",
    "gs_forest_tune2 = GridSearchCV(rf4, rand_for_grid)\n",
    "gs_forest_tune2.fit(X_train, y_train)\n",
    "\n",
    "gs_forest_tune2.best_params_\n",
    "\n",
    "#gs_forest_tune_pred = gs_forest_tune.predict(X_test)"
   ]
  },
  {
   "cell_type": "code",
   "execution_count": 35,
   "metadata": {},
   "outputs": [
    {
     "name": "stdout",
     "output_type": "stream",
     "text": [
      "              precision    recall  f1-score   support\n",
      "\n",
      "           0       1.00      1.00      1.00      2628\n",
      "           1       1.00      1.00      1.00      2628\n",
      "\n",
      "    accuracy                           1.00      5256\n",
      "   macro avg       1.00      1.00      1.00      5256\n",
      "weighted avg       1.00      1.00      1.00      5256\n",
      "\n"
     ]
    }
   ],
   "source": [
    "gs_forest_train_pred3 = gs_forest_tune2.predict(X_train)\n",
    "print(classification_report(y_train, gs_forest_train_pred3))"
   ]
  },
  {
   "cell_type": "code",
   "execution_count": 36,
   "metadata": {},
   "outputs": [
    {
     "name": "stdout",
     "output_type": "stream",
     "text": [
      "              precision    recall  f1-score   support\n",
      "\n",
      "           0       0.87      0.91      0.89       877\n",
      "           1       0.33      0.26      0.29       157\n",
      "\n",
      "    accuracy                           0.81      1034\n",
      "   macro avg       0.60      0.58      0.59      1034\n",
      "weighted avg       0.79      0.81      0.80      1034\n",
      "\n"
     ]
    }
   ],
   "source": [
    "gs_forest_tune_pred2 = gs_forest_tune2.predict(X_test)\n",
    "print(classification_report(y_test, gs_forest_tune_pred2))"
   ]
  },
  {
   "cell_type": "code",
   "execution_count": 37,
   "metadata": {},
   "outputs": [
    {
     "data": {
      "image/png": "[encoded data removed]",
      "text/plain": [
       "<Figure size 432x288 with 2 Axes>"
      ]
     },
     "metadata": {
      "needs_background": "light"
     },
     "output_type": "display_data"
    }
   ],
   "source": [
    "rf_model = gs_forest_tune2.best_estimator_\n",
    "plot_confusion_matrix(rf_model, X_test, y_test);"
   ]
  },
  {
   "cell_type": "code",
   "execution_count": 38,
   "metadata": {},
   "outputs": [],
   "source": [
    "#rf = RandomForestClassifier(n_estimators = 150, max_depth = 5, min_samples_split = 3)\n",
    "#rf.fit(X_train, y_train)\n",
    "#rf_predict = rf.predict(X_test)\n",
    "\n",
    "#rf_tree = rf.predict(X_train)"
   ]
  },
  {
   "cell_type": "code",
   "execution_count": 39,
   "metadata": {},
   "outputs": [],
   "source": [
    "#print(classification_report(y_train, rf_tree))"
   ]
  },
  {
   "cell_type": "code",
   "execution_count": 40,
   "metadata": {},
   "outputs": [],
   "source": [
    "#print(classification_report(y_test, rf_predict))"
   ]
  },
  {
   "cell_type": "code",
   "execution_count": null,
   "metadata": {},
   "outputs": [],
   "source": []
  }
 ],
 "metadata": {
  "kernelspec": {
   "display_name": "Python 3",
   "language": "python",
   "name": "python3"
  },
  "language_info": {
   "codemirror_mode": {
    "name": "ipython",
    "version": 3
   },
   "file_extension": ".py",
   "mimetype": "text/x-python",
   "name": "python",
   "nbconvert_exporter": "python",
   "pygments_lexer": "ipython3",
   "version": "3.8.5"
  }
 },
 "nbformat": 4,
 "nbformat_minor": 4
}
